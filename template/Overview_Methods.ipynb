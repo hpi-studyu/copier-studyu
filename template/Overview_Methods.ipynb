{
 "cells": [
  {
   "cell_type": "markdown",
   "metadata": {},
   "source": [
    "# Introduction\n",
    "\n",
    "This R Markdown document shows the usage of the package `cino1`. "
   ]
  },
  {
   "cell_type": "code",
   "execution_count": null,
   "metadata": {
    "lines_to_next_cell": 2,
    "message": false,
    "warnings": false
   },
   "outputs": [],
   "source": [
    "# load package\n",
    "library(cinof1)\n",
    "library(doParallel)"
   ]
  },
  {
   "cell_type": "markdown",
   "metadata": {},
   "source": [
    "## Data\n",
    "\n",
    "In this package, a sample data frame is included. It contains data for 300 patients within an n of 1 study. The data has the following structure:\n",
    "\n",
    "* _patient_id_: Unique patient identifier\n",
    "* _date_: Date of data points\n",
    "* _day_: Day in study\n",
    "* _Block_: identifies treatment block\n",
    "* _Activity_: Dummy variable for steps per day\n",
    "* _treatment_: Dummy variable for 2 treatments as factors\n",
    "* _Uncertain_Low_Back_Pain_: Dummy variable for Uncertain loq back pain on scale 1-15"
   ]
  },
  {
   "cell_type": "code",
   "execution_count": null,
   "metadata": {
    "message": false,
    "name": "data",
    "warnings": false
   },
   "outputs": [],
   "source": [
    "load(\"data/simpatdat.rda\")\n",
    "# Summarize Data\n",
    "summary(simpatdat)"
   ]
  },
  {
   "cell_type": "markdown",
   "metadata": {},
   "source": [
    "## Basic Functions\n",
    "\n",
    "Basic functions for analyse N-of-1 studys are for example wilcox test or comparative plots. These two functions are provided in this package.\n",
    "\n",
    "### Comparative Plot\n",
    "\n",
    "To get a first idea about the data and the difference between treatment 1 and treatment 2, a comparative plot could be used. It shows the outcome on the y-Axis against the different treatments on the x-Axis,"
   ]
  },
  {
   "cell_type": "code",
   "execution_count": null,
   "metadata": {
    "lines_to_next_cell": 2,
    "message": false,
    "name": "basic function comparativ plot",
    "warnings": false
   },
   "outputs": [],
   "source": [
    "# Define outcome and exposure column\n",
    "outcome <- \"Uncertain_Low_Back_Pain\"\n",
    "exposure <- \"treatment\"\n",
    "# Plot outcome among different exposures\n",
    "comparative.plot(simpatdat, exposure = exposure, outcome = outcome)"
   ]
  },
  {
   "cell_type": "markdown",
   "metadata": {},
   "source": [
    "## Wilcox Test\n",
    "\n",
    "To validate, that there is a difference in both treatments, the Wilcox test could be used. It calculates the p-value for the null hypothesis, that there location shift is equal to zero."
   ]
  },
  {
   "cell_type": "code",
   "execution_count": null,
   "metadata": {
    "message": false,
    "name": "basic function wilcox test",
    "warnings": false
   },
   "outputs": [],
   "source": [
    "# Define outcome and exposure column\n",
    "outcome <- \"Uncertain_Low_Back_Pain\"\n",
    "exposure <- \"treatment\"\n",
    "# Perform Wilcox test among different exposures\n",
    "wilcox.nofone(simpatdat, exposure = exposure, outcome = outcome)"
   ]
  },
  {
   "cell_type": "markdown",
   "metadata": {},
   "source": [
    "## Adjust Wash In and Wash Out\n"
   ]
  },
  {
   "cell_type": "code",
   "execution_count": null,
   "metadata": {
    "message": false,
    "name": "adj.wash.in",
    "warnings": false
   },
   "outputs": [],
   "source": [
    "outcome <- \"Uncertain_Low_Back_Pain\"\n",
    "exposure <- \"treatment\"\n",
    "variables <- c(\"Activity\")\n",
    "id <- \"patient_id\"\n",
    "time_col <- \"day\"\n",
    "\n",
    "result <- estimate.gamma.tau(data = simpatdat, outcome = outcome, exposure = exposure, variables = variables, bound = 2, symmetric = TRUE, id=id, time_col = time_col)\n",
    "\n",
    "result\n",
    "\n",
    "fit.adj.lm(data = simpatdat, outcome = outcome, exposure = exposure, variables = variables, effects = result$best, id = id, time_col = time_col)"
   ]
  },
  {
   "cell_type": "markdown",
   "metadata": {
    "lines_to_next_cell": 0
   },
   "source": [
    "## Bayesian\n",
    "\n",
    "Bayesian Networks are used to calculated the probability of outcome variables adjusted for confounders. For that, a dag is required, which identifies the relations between the variables.\n",
    "In this implementation, also lags are included and could be specified in the dag by adding `.lag=` to the variable name.\n",
    "\n",
    "###  Preprocess Data"
   ]
  },
  {
   "cell_type": "code",
   "execution_count": null,
   "metadata": {
    "lines_to_next_cell": 2,
    "message": false,
    "name": "bn.data",
    "warnings": false
   },
   "outputs": [],
   "source": [
    "# specify column names\n",
    "id <- \"patient_id\"\n",
    "time_col <- \"day\"\n",
    "\n",
    "# Load data\n",
    "load(\"data/simpatdag.rda\")\n",
    "load(\"data/simpatdat.rda\")\n",
    "\n",
    "# Dag preprocessing\n",
    "bn.dag <- bn.prep.dag(simpatdag)\n",
    "\n",
    "# Data Preprocessing (Factorization)\n",
    "simpatdat$Uncertain_Low_Back_Pain <- as.factor(simpatdat$Uncertain_Low_Back_Pain)\n",
    "simpatdat$Activity <- cut(simpatdat$Activity, 3, labels=c(\"low Activity\", \"middle Activity\", \"high Activity\"))\n",
    "bn.data <- bn.prep.data(bn.dag, simpatdat, id, time_col)\n",
    "bn.data <- na.omit(bn.data)"
   ]
  },
  {
   "cell_type": "markdown",
   "metadata": {
    "lines_to_next_cell": 0
   },
   "source": [
    "### Fit and Plot Results"
   ]
  },
  {
   "cell_type": "code",
   "execution_count": null,
   "metadata": {
    "lines_to_next_cell": 2,
    "message": false,
    "name": "bn.fit",
    "warnings": false
   },
   "outputs": [],
   "source": [
    "fitted.bn <- bn.fit.dag(bn.data, bn.dag, method=\"bayes\")\n",
    "\n",
    "library(bnlearn)\n",
    "bn.fit.barchart(fitted.bn$Uncertain_Low_Back_Pain)"
   ]
  },
  {
   "cell_type": "markdown",
   "metadata": {
    "lines_to_next_cell": 0
   },
   "source": [
    "## G-Estimation\n",
    "\n",
    "G-Estimation is used to adjust the analysis for causal inferences. For that, three different methods are implemented\n",
    "\n",
    "### Load Data"
   ]
  },
  {
   "cell_type": "code",
   "execution_count": null,
   "metadata": {
    "lines_to_next_cell": 2,
    "message": false,
    "name": "g.est load data",
    "warnings": false
   },
   "outputs": [],
   "source": [
    "load(\"data/simpatdat.rda\")"
   ]
  },
  {
   "cell_type": "markdown",
   "metadata": {
    "lines_to_next_cell": 0
   },
   "source": [
    "### Fit G-Estimation by Iteration\n",
    "It iterates over several values for $\\psi$ and returns a data frame with $\\psi$ and corresponding $\\alpha$"
   ]
  },
  {
   "cell_type": "code",
   "execution_count": null,
   "metadata": {
    "name": "g.est method.iter"
   },
   "outputs": [],
   "source": [
    "outcome <- \"Uncertain_Low_Back_Pain\"\n",
    "exposure <- \"treatment\"\n",
    "confounder <- c(\"Activity\")\n",
    "id <- \"patient_id\"\n",
    "df <- nofgest(simpatdat, outcome, exposure, confounder, id, method=\"iterate\", steps=100, upper_bound_psi = 10, lower_bound_psi = -10)"
   ]
  },
  {
   "cell_type": "markdown",
   "metadata": {
    "lines_to_next_cell": 0
   },
   "source": [
    "This function is useful to plot a curve for $\\alpha$ and $\\psi$."
   ]
  },
  {
   "cell_type": "code",
   "execution_count": null,
   "metadata": {
    "message": false,
    "name": "g.est method.iter plot",
    "warnings": false
   },
   "outputs": [],
   "source": [
    "plot( df$PSI ,df$Beta, type=\"l\", main=expression(paste(\"Plot of \", alpha, \"( \", psi,\")\")),\n",
    "        xlab=expression(psi),\n",
    "        ylab=expression(alpha))\n",
    "# Add a second line\n",
    "lines( c(-100,100),c(0,0), type = \"l\", col = \"red\")"
   ]
  },
  {
   "cell_type": "markdown",
   "metadata": {
    "lines_to_next_cell": 0
   },
   "source": [
    "### Fit G-Estimation by Recursive Mean\n",
    "\n",
    "This function approximate $\\psi$ by an interval search."
   ]
  },
  {
   "cell_type": "code",
   "execution_count": null,
   "metadata": {
    "message": false,
    "name": "g.est method.rec_mean",
    "warnings": false
   },
   "outputs": [],
   "source": [
    "outcome <- \"Uncertain_Low_Back_Pain\"\n",
    "exposure <- \"treatment\"\n",
    "confounder <- c(\"Activity\")\n",
    "id <- \"patient_id\"\n",
    "nofgest(simpatdat, outcome, exposure, confounder, id, method=\"rec_mean\", max_number_it = 10, verbose=FALSE)"
   ]
  },
  {
   "cell_type": "markdown",
   "metadata": {
    "lines_to_next_cell": 0
   },
   "source": [
    "### Fit G-Estimation by Recursive Improved\n",
    "\n",
    "This function approximate $\\psi$ by an optimized interval search."
   ]
  },
  {
   "cell_type": "code",
   "execution_count": null,
   "metadata": {
    "lines_to_next_cell": 0,
    "message": false,
    "name": "g.est method.rec_lin",
    "warnings": false
   },
   "outputs": [],
   "source": [
    "outcome <- \"Uncertain_Low_Back_Pain\"\n",
    "exposure <- \"treatment\"\n",
    "confounder <- c(\"Activity\")\n",
    "id <- \"patient_id\"\n",
    "nofgest(simpatdat, outcome, exposure, confounder, id, method=\"rec\", max_number_it = 10, verbose=FALSE)"
   ]
  },
  {
   "cell_type": "markdown",
   "metadata": {},
   "source": [
    "\n"
   ]
  }
 ],
 "metadata": {
  "jupytext": {
   "cell_metadata_filter": "message,warnings,name,-all",
   "main_language": "R",
   "notebook_metadata_filter": "-all"
  },
  "kernelspec": {
   "display_name": "R",
   "language": "R",
   "name": "ir"
  },
  "language_info": {
   "codemirror_mode": "r",
   "file_extension": ".r",
   "mimetype": "text/x-r-source",
   "name": "R",
   "pygments_lexer": "r",
   "version": "4.0.4"
  }
 },
 "nbformat": 4,
 "nbformat_minor": 5
}