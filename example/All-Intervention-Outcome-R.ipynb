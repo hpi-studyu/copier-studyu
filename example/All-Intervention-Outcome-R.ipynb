{
 "cells": [
  {
   "cell_type": "markdown",
   "source": [
    "# Example analysis: Most significantly effective intervention for every outcome\n",
    "### This does not take into account any variables except _intervention\\_id_ and outcome"
   ],
   "metadata": {}
  },
  {
   "cell_type": "code",
   "execution_count": null,
   "source": [
    "# Import N-of-1 analysis library by Thomas Gaertner: Analyse causal inferences in N-of-1 studies https://github.com/thogaertner/cinof1\r\n",
    "library(cinof1)\r\n",
    "\r\n",
    "raw_df = read.csv(file = 'data/subjects.csv')\r\n",
    "\r\n",
    "significantly_effective_intervention <- function(raw_df, outcome, exposure='intervention_id') {\r\n",
    "    df <- data.frame(raw_df)\r\n",
    "    df[,exposure] = factor(raw_df[,exposure])\r\n",
    "    drop <- c('completed_at', 'result_type', 'user_id', 'study_id', 'started_at', 'completed_at', 'invite_code')\r\n",
    "    df = df[,!(names(df) %in% drop)]\r\n",
    "\r\n",
    "    # Shapiro–Wilk to test for normal distribution\r\n",
    "    shapiro_result = shapiro.test(df[,outcome])\r\n",
    "    print(shapiro_result)\r\n",
    "    is_normal_distribution = shapiro_result$p >= 0.05 # Check if null hypothesis (nomal distribution) is likely\r\n",
    "    if (is_normal_distribution) cat(\"The Shapiro–Wilk test: NORMAL distribution\\n\\n\\n\") else cat(\"The Shapiro–Wilk test: NO normal distribution\\n\\n\\n\")\r\n",
    "\r\n",
    "    performance_difference <- function(data) {\r\n",
    "        if (is_normal_distribution) {\r\n",
    "            cat(\"Normal distribution found. Applying Welch Two Sample t-test\")\r\n",
    "            return(t.test(as.formula(sprintf(\"%s ~ %s\", outcome, exposure)), data = data, exact = FALSE, correct = FALSE, conf.int = FALSE))\r\n",
    "        } else {\r\n",
    "            cat(\"No normal distribution found. App%slying Wilcoxon signed rank test\")\r\n",
    "            # Using cinof1 package\r\n",
    "            return(wilcox.nofone(data, exposure = exposure, outcome = outcome))\r\n",
    "        }\r\n",
    "    }\r\n",
    "    diff = performance_difference(df)\r\n",
    "    print(diff)\r\n",
    "    cat(\"\\n\\n\")\r\n",
    "    has_significant_difference = diff$p.value < 0.05\r\n",
    "\r\n",
    "    if (has_significant_difference) {\r\n",
    "        means = aggregate(as.formula(sprintf(\"%s ~ %s\", outcome, exposure)), data=df, mean)\r\n",
    "        if (means[,outcome][1] > means[,outcome][2]) {\r\n",
    "            cat('The intervention \"', levels(means[,exposure])[1],'\" is more effective by a mean of ', means[,outcome][1] - means[,outcome][2], ' to increase \"', outcome, '\" outcome')\r\n",
    "        } else {\r\n",
    "            cat('The intervention \"', levels(means[,exposure])[2], '\" is more effective by a mean of ', means[,outcome][2] - means[,outcome][1], ' to increase \"', outcome, '\" outcome')\r\n",
    "        }\r\n",
    "    } else {\r\n",
    "        cat(\"Difference between means of interventions is NOT significant: \", diff$p.value)\r\n",
    "    }\r\n",
    "    cat(\"\\n\\n\")\r\n",
    "    \r\n",
    "    # Using cinof1 package\r\n",
    "    print(comparative.plot(raw_df, exposure = exposure, outcome = outcome))\r\n",
    "}"
   ],
   "outputs": [],
   "metadata": {}
  },
  {
   "cell_type": "markdown",
   "source": [
    "## Most significantly effective intervention for 'pain'"
   ],
   "metadata": {}
  },
  {
   "cell_type": "code",
   "execution_count": null,
   "source": [
    "significantly_effective_intervention(outcome = 'pain')"
   ],
   "outputs": [],
   "metadata": {}
  },
  {
   "cell_type": "code",
   "execution_count": null,
   "source": [],
   "outputs": [],
   "metadata": {}
  }
 ],
 "metadata": {
  "kernelspec": {
   "display_name": "R",
   "language": "R",
   "name": "ir"
  },
  "language_info": {
   "codemirror_mode": "r",
   "file_extension": ".r",
   "mimetype": "text/x-r-source",
   "name": "R",
   "pygments_lexer": "r",
   "version": "4.1.0"
  }
 },
 "nbformat": 4,
 "nbformat_minor": 5
}